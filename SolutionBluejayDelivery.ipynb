{
  "nbformat": 4,
  "nbformat_minor": 0,
  "metadata": {
    "colab": {
      "provenance": []
    },
    "kernelspec": {
      "name": "python3",
      "display_name": "Python 3"
    },
    "language_info": {
      "name": "python"
    }
  },
  "cells": [
    {
      "cell_type": "code",
      "source": [
        "import csv\n",
        "import csv\n",
        "\n",
        "def read_csv_file(file_path):\n",
        "    with open(file_path, 'r') as file:\n",
        "        reader = csv.DictReader(file)\n",
        "        data = list(reader)\n",
        "    return data\n",
        "\n",
        "from datetime import datetime, timedelta\n",
        "file_path = '/content/drive/MyDrive/Assignment_Timecard.xlsx - Sheet1.csv'\n",
        "data = read_csv_file(file_path)"
      ],
      "metadata": {
        "id": "KCpNwV7YvpJ6"
      },
      "execution_count": null,
      "outputs": []
    },
    {
      "cell_type": "markdown",
      "source": [
        "a)"
      ],
      "metadata": {
        "id": "STmdHGpWp7jQ"
      }
    },
    {
      "cell_type": "code",
      "source": [
        "\n",
        "def find_consecutive_days_worked(data, consecutive_days):\n",
        "    employees = {}\n",
        "\n",
        "    for entry in data:\n",
        "        emp_name = entry['Employee Name']\n",
        "        time_in_str = entry['Time']\n",
        "\n",
        "\n",
        "        if not time_in_str:\n",
        "            continue\n",
        "\n",
        "        try:\n",
        "            time_in = datetime.strptime(time_in_str, '%m/%d/%Y %I:%M %p')\n",
        "        except ValueError:\n",
        "            print(f\"Error parsing time: {time_in_str}\")\n",
        "            continue\n",
        "\n",
        "        if emp_name not in employees:\n",
        "            employees[emp_name] = {'worked_dates': set()}\n",
        "\n",
        "        # Add the date of the current entry to the set\n",
        "        employees[emp_name]['worked_dates'].add(time_in.date())\n",
        "\n",
        "    for emp_name, emp_data in employees.items():\n",
        "        worked_dates = sorted(emp_data['worked_dates'])\n",
        "        for i in range(len(worked_dates) - consecutive_days + 1):\n",
        "            consecutive_range = worked_dates[i:i + consecutive_days]\n",
        "            if (consecutive_range[-1] - consecutive_range[0]).days == consecutive_days - 1:\n",
        "                print(f\"{emp_name} has worked for {consecutive_days} consecutive days on the following dates: {consecutive_range}\")\n",
        "\n",
        "def main():\n",
        "    consecutive_days = 7\n",
        "    find_consecutive_days_worked(data, consecutive_days)\n",
        "\n",
        "if __name__ == \"__main__\":\n",
        "    main()\n"
      ],
      "metadata": {
        "colab": {
          "base_uri": "https://localhost:8080/"
        },
        "id": "W1lifXbAiKlx",
        "outputId": "4e156ab1-5e6d-4fd0-ef72-772579d54f65"
      },
      "execution_count": null,
      "outputs": [
        {
          "output_type": "stream",
          "name": "stdout",
          "text": [
            "Sparks, KeWWeMh has worked for 7 consecutive days on the following dates: [datetime.date(2023, 9, 16), datetime.date(2023, 9, 17), datetime.date(2023, 9, 18), datetime.date(2023, 9, 19), datetime.date(2023, 9, 20), datetime.date(2023, 9, 21), datetime.date(2023, 9, 22)]\n",
            "Sparks, KeWWeMh has worked for 7 consecutive days on the following dates: [datetime.date(2023, 9, 17), datetime.date(2023, 9, 18), datetime.date(2023, 9, 19), datetime.date(2023, 9, 20), datetime.date(2023, 9, 21), datetime.date(2023, 9, 22), datetime.date(2023, 9, 23)]\n",
            "SiWgh, JaspreeM has worked for 7 consecutive days on the following dates: [datetime.date(2023, 9, 10), datetime.date(2023, 9, 11), datetime.date(2023, 9, 12), datetime.date(2023, 9, 13), datetime.date(2023, 9, 14), datetime.date(2023, 9, 15), datetime.date(2023, 9, 16)]\n",
            "SiWgh, JaspreeM has worked for 7 consecutive days on the following dates: [datetime.date(2023, 9, 11), datetime.date(2023, 9, 12), datetime.date(2023, 9, 13), datetime.date(2023, 9, 14), datetime.date(2023, 9, 15), datetime.date(2023, 9, 16), datetime.date(2023, 9, 17)]\n",
            "SiWgh, JaspreeM has worked for 7 consecutive days on the following dates: [datetime.date(2023, 9, 12), datetime.date(2023, 9, 13), datetime.date(2023, 9, 14), datetime.date(2023, 9, 15), datetime.date(2023, 9, 16), datetime.date(2023, 9, 17), datetime.date(2023, 9, 18)]\n",
            "CEreira Jr, JEse has worked for 7 consecutive days on the following dates: [datetime.date(2023, 9, 16), datetime.date(2023, 9, 17), datetime.date(2023, 9, 18), datetime.date(2023, 9, 19), datetime.date(2023, 9, 20), datetime.date(2023, 9, 21), datetime.date(2023, 9, 22)]\n",
            "CEreira Jr, JEse has worked for 7 consecutive days on the following dates: [datetime.date(2023, 9, 17), datetime.date(2023, 9, 18), datetime.date(2023, 9, 19), datetime.date(2023, 9, 20), datetime.date(2023, 9, 21), datetime.date(2023, 9, 22), datetime.date(2023, 9, 23)]\n",
            "GAeWdia, JAaW CarXEs has worked for 7 consecutive days on the following dates: [datetime.date(2023, 9, 16), datetime.date(2023, 9, 17), datetime.date(2023, 9, 18), datetime.date(2023, 9, 19), datetime.date(2023, 9, 20), datetime.date(2023, 9, 21), datetime.date(2023, 9, 22)]\n",
            "GAeWdia, JAaW CarXEs has worked for 7 consecutive days on the following dates: [datetime.date(2023, 9, 17), datetime.date(2023, 9, 18), datetime.date(2023, 9, 19), datetime.date(2023, 9, 20), datetime.date(2023, 9, 21), datetime.date(2023, 9, 22), datetime.date(2023, 9, 23)]\n"
          ]
        }
      ]
    },
    {
      "cell_type": "markdown",
      "source": [
        "b)"
      ],
      "metadata": {
        "id": "LG5_eMzhp-v-"
      }
    },
    {
      "cell_type": "code",
      "source": [
        "def find_shift_time_gaps(data, min_gap, max_gap):\n",
        "    employees = {}\n",
        "\n",
        "    for entry in data:\n",
        "        emp_name = entry['Employee Name']\n",
        "        time_in_str = entry['Time']\n",
        "        time_out_str = entry['Time Out']\n",
        "\n",
        "        if not (time_in_str and time_out_str):\n",
        "            continue\n",
        "\n",
        "        try:\n",
        "            time_in = datetime.strptime(time_in_str, '%m/%d/%Y %I:%M %p')\n",
        "            time_out = datetime.strptime(time_out_str, '%m/%d/%Y %I:%M %p')\n",
        "        except ValueError:\n",
        "            print(f\"Error parsing time: {time_in_str} or {time_out_str}\")\n",
        "            continue\n",
        "\n",
        "        if emp_name not in employees:\n",
        "            employees[emp_name] = {'end_time': time_out}\n",
        "\n",
        "        # Check the time gap between the end of the previous shift and the current shift\n",
        "        time_gap_seconds = (time_in - employees[emp_name]['end_time']).total_seconds()\n",
        "        time_gap_hours = time_gap_seconds / 3600\n",
        "\n",
        "        if min_gap < time_gap_hours <= max_gap:\n",
        "            time_gap_minutes = (time_gap_seconds % 3600) // 60\n",
        "            print(f\"{emp_name} has a time gap of {int(time_gap_hours)}:{int(time_gap_minutes):02} hours between shifts.\")\n",
        "\n",
        "        employees[emp_name]['end_time'] = time_out\n",
        "\n",
        "def main():\n",
        "    min_time_gap = 1\n",
        "    max_time_gap = 10\n",
        "    find_shift_time_gaps(data, min_time_gap, max_time_gap)\n",
        "\n",
        "if __name__ == \"__main__\":\n",
        "    main()\n"
      ],
      "metadata": {
        "colab": {
          "base_uri": "https://localhost:8080/"
        },
        "id": "gxNiaL8zi75-",
        "outputId": "3f65a707-dce1-4c85-e8d8-bb9ea3924db0"
      },
      "execution_count": null,
      "outputs": [
        {
          "output_type": "stream",
          "name": "stdout",
          "text": [
            "CaMaXaWE, CeghaW has a time gap of 2:15 hours between shifts.\n",
            "CaMaXaWE, CeghaW has a time gap of 1:29 hours between shifts.\n",
            "Xee, XaCar has a time gap of 9:41 hours between shifts.\n",
            "Xee, XaCar has a time gap of 8:30 hours between shifts.\n",
            "Xee, XaCar has a time gap of 9:12 hours between shifts.\n",
            "De Xa Cerda, IgWaciE has a time gap of 3:00 hours between shifts.\n",
            "MraW, WiXXiaC Ha has a time gap of 10:00 hours between shifts.\n",
            "MraW, WiXXiaC Ha has a time gap of 9:45 hours between shifts.\n",
            "CEreira Jr, JEse has a time gap of 4:11 hours between shifts.\n",
            "DeXgadiXXE REdarMe, ChrisMiaW S has a time gap of 3:57 hours between shifts.\n",
            "HaCiXMEW, DeaWMe DevEW has a time gap of 2:40 hours between shifts.\n",
            "REdrigAez, GraWdEW AWgeX has a time gap of 1:09 hours between shifts.\n"
          ]
        }
      ]
    },
    {
      "cell_type": "markdown",
      "source": [
        "c)"
      ],
      "metadata": {
        "id": "oZ1zVMBlqDN0"
      }
    },
    {
      "cell_type": "code",
      "source": [
        "def find_long_shifts(data, threshold_hours):\n",
        "    for entry in data:\n",
        "        emp_name = entry['Employee Name']\n",
        "        time_in_str = entry['Time']\n",
        "        time_out_str = entry['Time Out']\n",
        "\n",
        "        if not (time_in_str and time_out_str):\n",
        "            continue\n",
        "\n",
        "        try:\n",
        "            time_in = datetime.strptime(time_in_str, '%m/%d/%Y %I:%M %p')\n",
        "            time_out = datetime.strptime(time_out_str, '%m/%d/%Y %I:%M %p')\n",
        "        except ValueError:\n",
        "            print(f\"Error parsing time: {time_in_str} or {time_out_str}\")\n",
        "            continue\n",
        "\n",
        "        # Calculate shift duration in hours\n",
        "        shift_duration = (time_out - time_in).total_seconds() / 3600\n",
        "\n",
        "        if shift_duration > threshold_hours:\n",
        "            print(f\"{emp_name} has worked for more than {threshold_hours} hours in a single shift \"\n",
        "                  f\"(Duration: {shift_duration:.2f} hours, Shift Time: {time_in.strftime('%I:%M %p')} - {time_out.strftime('%I:%M %p')}).\")\n",
        "\n",
        "def main():\n",
        "    threshold_hours = 14  # threshold for shift duration\n",
        "    find_long_shifts(data, threshold_hours)\n",
        "\n",
        "if __name__ == \"__main__\":\n",
        "    main()\n"
      ],
      "metadata": {
        "colab": {
          "base_uri": "https://localhost:8080/"
        },
        "id": "pxa40whCmX91",
        "outputId": "1de67554-c739-4756-94a8-f11fb6a94e80"
      },
      "execution_count": null,
      "outputs": [
        {
          "output_type": "stream",
          "name": "stdout",
          "text": [
            "DeXgadiXXE REdarMe, ChrisMiaW S has worked for more than 14 hours in a single shift (Duration: 15.50 hours, Shift Time: 04:00 AM - 07:30 PM).\n"
          ]
        }
      ]
    }
  ]
}